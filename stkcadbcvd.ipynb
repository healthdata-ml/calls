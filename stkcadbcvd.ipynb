{
  "nbformat": 4,
  "nbformat_minor": 0,
  "metadata": {
    "colab": {
      "name": "stkcadbcvd.ipynb",
      "provenance": [],
      "collapsed_sections": [],
      "machine_shape": "hm"
    },
    "kernelspec": {
      "name": "python3",
      "display_name": "Python 3"
    },
    "accelerator": "GPU"
  },
  "cells": [
    {
      "cell_type": "markdown",
      "metadata": {
        "id": "atEHIbeL9Sef",
        "colab_type": "text"
      },
      "source": [
        "# Bibliotecas"
      ]
    },
    {
      "cell_type": "code",
      "metadata": {
        "id": "6aOwgiPq9U64",
        "colab_type": "code",
        "colab": {}
      },
      "source": [
        "import pandas as pd #análise de dados em tabelas\n",
        "import numpy as np #análise de números\n",
        "import seaborn as sb #análise em gráficos"
      ],
      "execution_count": 0,
      "outputs": []
    },
    {
      "cell_type": "markdown",
      "metadata": {
        "id": "CCzMle5cR6Y7",
        "colab_type": "text"
      },
      "source": [
        "# Stroke Machine Learning Classification Model\n",
        "With categorical data \n",
        "and train and test sets"
      ]
    },
    {
      "cell_type": "code",
      "metadata": {
        "id": "lxkZ0whwR-mf",
        "colab_type": "code",
        "colab": {}
      },
      "source": [
        "train = 'http://bit.ly/avctreino'\n",
        "test = 'http://bit.ly/avcteste'"
      ],
      "execution_count": 0,
      "outputs": []
    },
    {
      "cell_type": "code",
      "metadata": {
        "id": "vB7ZSG_rXZY5",
        "colab_type": "code",
        "colab": {}
      },
      "source": [
        "train = pd.read_csv(train, decimal='.')\n",
        "test = pd.read_csv(test, decimal='.')"
      ],
      "execution_count": 0,
      "outputs": []
    },
    {
      "cell_type": "code",
      "metadata": {
        "id": "2NwXpB-wOMh-",
        "colab_type": "code",
        "outputId": "5479c6b9-0378-4513-d65b-745e5940504a",
        "colab": {
          "base_uri": "https://localhost:8080/",
          "height": 195
        }
      },
      "source": [
        "train.head()"
      ],
      "execution_count": 0,
      "outputs": [
        {
          "output_type": "execute_result",
          "data": {
            "text/html": [
              "<div>\n",
              "<style scoped>\n",
              "    .dataframe tbody tr th:only-of-type {\n",
              "        vertical-align: middle;\n",
              "    }\n",
              "\n",
              "    .dataframe tbody tr th {\n",
              "        vertical-align: top;\n",
              "    }\n",
              "\n",
              "    .dataframe thead th {\n",
              "        text-align: right;\n",
              "    }\n",
              "</style>\n",
              "<table border=\"1\" class=\"dataframe\">\n",
              "  <thead>\n",
              "    <tr style=\"text-align: right;\">\n",
              "      <th></th>\n",
              "      <th>id</th>\n",
              "      <th>gender</th>\n",
              "      <th>age</th>\n",
              "      <th>hypertension</th>\n",
              "      <th>heart_disease</th>\n",
              "      <th>ever_married</th>\n",
              "      <th>work_type</th>\n",
              "      <th>residence_type</th>\n",
              "      <th>avg_glucose_level</th>\n",
              "      <th>bmi</th>\n",
              "      <th>smoking_status</th>\n",
              "      <th>stroke</th>\n",
              "    </tr>\n",
              "  </thead>\n",
              "  <tbody>\n",
              "    <tr>\n",
              "      <th>0</th>\n",
              "      <td>21587</td>\n",
              "      <td>1</td>\n",
              "      <td>0</td>\n",
              "      <td>0</td>\n",
              "      <td>0</td>\n",
              "      <td>0</td>\n",
              "      <td>1</td>\n",
              "      <td>0</td>\n",
              "      <td>0</td>\n",
              "      <td>0</td>\n",
              "      <td>0</td>\n",
              "      <td>0</td>\n",
              "    </tr>\n",
              "    <tr>\n",
              "      <th>1</th>\n",
              "      <td>18234</td>\n",
              "      <td>1</td>\n",
              "      <td>1</td>\n",
              "      <td>1</td>\n",
              "      <td>0</td>\n",
              "      <td>0</td>\n",
              "      <td>1</td>\n",
              "      <td>1</td>\n",
              "      <td>0</td>\n",
              "      <td>1</td>\n",
              "      <td>0</td>\n",
              "      <td>0</td>\n",
              "    </tr>\n",
              "    <tr>\n",
              "      <th>2</th>\n",
              "      <td>40548</td>\n",
              "      <td>0</td>\n",
              "      <td>1</td>\n",
              "      <td>0</td>\n",
              "      <td>0</td>\n",
              "      <td>0</td>\n",
              "      <td>1</td>\n",
              "      <td>0</td>\n",
              "      <td>1</td>\n",
              "      <td>1</td>\n",
              "      <td>0</td>\n",
              "      <td>0</td>\n",
              "    </tr>\n",
              "    <tr>\n",
              "      <th>3</th>\n",
              "      <td>21450</td>\n",
              "      <td>0</td>\n",
              "      <td>1</td>\n",
              "      <td>1</td>\n",
              "      <td>0</td>\n",
              "      <td>0</td>\n",
              "      <td>1</td>\n",
              "      <td>0</td>\n",
              "      <td>0</td>\n",
              "      <td>0</td>\n",
              "      <td>0</td>\n",
              "      <td>0</td>\n",
              "    </tr>\n",
              "    <tr>\n",
              "      <th>4</th>\n",
              "      <td>28164</td>\n",
              "      <td>1</td>\n",
              "      <td>1</td>\n",
              "      <td>0</td>\n",
              "      <td>0</td>\n",
              "      <td>0</td>\n",
              "      <td>1</td>\n",
              "      <td>1</td>\n",
              "      <td>0</td>\n",
              "      <td>1</td>\n",
              "      <td>0</td>\n",
              "      <td>0</td>\n",
              "    </tr>\n",
              "  </tbody>\n",
              "</table>\n",
              "</div>"
            ],
            "text/plain": [
              "      id  gender  age  ...  bmi  smoking_status  stroke\n",
              "0  21587       1    0  ...    0               0       0\n",
              "1  18234       1    1  ...    1               0       0\n",
              "2  40548       0    1  ...    1               0       0\n",
              "3  21450       0    1  ...    0               0       0\n",
              "4  28164       1    1  ...    1               0       0\n",
              "\n",
              "[5 rows x 12 columns]"
            ]
          },
          "metadata": {
            "tags": []
          },
          "execution_count": 5
        }
      ]
    },
    {
      "cell_type": "code",
      "metadata": {
        "id": "9Qz0IpNsr_TR",
        "colab_type": "code",
        "outputId": "97356a6f-5614-44cb-9b3b-d23c5ac40606",
        "colab": {
          "base_uri": "https://localhost:8080/",
          "height": 218
        }
      },
      "source": [
        "train.columns.tolist()"
      ],
      "execution_count": 0,
      "outputs": [
        {
          "output_type": "execute_result",
          "data": {
            "text/plain": [
              "['id',\n",
              " 'gender',\n",
              " 'age',\n",
              " 'hypertension',\n",
              " 'heart_disease',\n",
              " 'ever_married',\n",
              " 'work_type',\n",
              " 'residence_type',\n",
              " 'avg_glucose_level',\n",
              " 'bmi',\n",
              " 'smoking_status',\n",
              " 'stroke']"
            ]
          },
          "metadata": {
            "tags": []
          },
          "execution_count": 6
        }
      ]
    },
    {
      "cell_type": "code",
      "metadata": {
        "id": "iM5nXZI3OOrd",
        "colab_type": "code",
        "colab": {}
      },
      "source": [
        "X_train = train[['gender',\n",
        " 'age',\n",
        " 'hypertension',\n",
        " 'heart_disease',\n",
        " 'ever_married',\n",
        " 'work_type',\n",
        " 'residence_type',\n",
        " 'avg_glucose_level',\n",
        " 'bmi',\n",
        " 'smoking_status']]\n",
        "y_train = train['stroke']"
      ],
      "execution_count": 0,
      "outputs": []
    },
    {
      "cell_type": "code",
      "metadata": {
        "id": "sVKuwDr6sGAX",
        "colab_type": "code",
        "outputId": "4865567e-e6f9-4e93-b834-198c220410ed",
        "colab": {
          "base_uri": "https://localhost:8080/",
          "height": 118
        }
      },
      "source": [
        "y.head()"
      ],
      "execution_count": 0,
      "outputs": [
        {
          "output_type": "execute_result",
          "data": {
            "text/plain": [
              "0    0\n",
              "1    0\n",
              "2    0\n",
              "3    0\n",
              "4    0\n",
              "Name: stroke, dtype: int64"
            ]
          },
          "metadata": {
            "tags": []
          },
          "execution_count": 11
        }
      ]
    },
    {
      "cell_type": "code",
      "metadata": {
        "id": "OrpJJz7Jsggq",
        "colab_type": "code",
        "colab": {}
      },
      "source": [
        "X_test = test[['gender',\n",
        " 'age',\n",
        " 'hypertension',\n",
        " 'heart_disease',\n",
        " 'ever_married',\n",
        " 'work_type',\n",
        " 'residence_type',\n",
        " 'avg_glucose_level',\n",
        " 'bmi',\n",
        " 'smoking_status']]\n",
        "y_test = test['stroke']"
      ],
      "execution_count": 0,
      "outputs": []
    },
    {
      "cell_type": "markdown",
      "metadata": {
        "id": "quFn6YfyYppl",
        "colab_type": "text"
      },
      "source": [
        "### Dictionary\n",
        "- Gender: Male= 0, Female= 1\n",
        "- Age: Young= 0, Older= 1 (> 35)\n",
        "- Hypertension: No= 0, Yes= 1\n",
        "- Heart Disease: No= 0, Yes= 1\n",
        "- Ever Married: No= 0, Yes= 1\n",
        "- Works: 0 = No, 1 = Yes\n",
        "- Residence type: Rural= 0, Urban= 1\n",
        "- Glucose Level: 0= Low, 1= High (140mg, after meal)\n",
        "- BMI (body mass index): 0= Low, 1= High (30)\n",
        "- Smoking Status: 0 = never smoked, 1 = smoked"
      ]
    },
    {
      "cell_type": "markdown",
      "metadata": {
        "id": "hpaXn2V7liI9",
        "colab_type": "text"
      },
      "source": [
        "## Explore Data"
      ]
    },
    {
      "cell_type": "code",
      "metadata": {
        "id": "OKnP7kXnlj3U",
        "colab_type": "code",
        "outputId": "5fabcdef-955b-4975-f0f6-fb2126573920",
        "colab": {
          "base_uri": "https://localhost:8080/",
          "height": 204
        }
      },
      "source": [
        "df.head()"
      ],
      "execution_count": 0,
      "outputs": [
        {
          "output_type": "execute_result",
          "data": {
            "text/html": [
              "<div>\n",
              "<style scoped>\n",
              "    .dataframe tbody tr th:only-of-type {\n",
              "        vertical-align: middle;\n",
              "    }\n",
              "\n",
              "    .dataframe tbody tr th {\n",
              "        vertical-align: top;\n",
              "    }\n",
              "\n",
              "    .dataframe thead th {\n",
              "        text-align: right;\n",
              "    }\n",
              "</style>\n",
              "<table border=\"1\" class=\"dataframe\">\n",
              "  <thead>\n",
              "    <tr style=\"text-align: right;\">\n",
              "      <th></th>\n",
              "      <th>id</th>\n",
              "      <th>gender</th>\n",
              "      <th>age</th>\n",
              "      <th>hypertension</th>\n",
              "      <th>heart_disease</th>\n",
              "      <th>ever_married</th>\n",
              "      <th>work_type</th>\n",
              "      <th>residence_type</th>\n",
              "      <th>avg_glucose_level</th>\n",
              "      <th>bmi</th>\n",
              "      <th>smoking_status</th>\n",
              "      <th>stroke</th>\n",
              "    </tr>\n",
              "  </thead>\n",
              "  <tbody>\n",
              "    <tr>\n",
              "      <th>0</th>\n",
              "      <td>30669</td>\n",
              "      <td>0</td>\n",
              "      <td>0</td>\n",
              "      <td>0</td>\n",
              "      <td>0</td>\n",
              "      <td>1</td>\n",
              "      <td>0</td>\n",
              "      <td>0</td>\n",
              "      <td>0</td>\n",
              "      <td>0</td>\n",
              "      <td>0</td>\n",
              "      <td>0</td>\n",
              "    </tr>\n",
              "    <tr>\n",
              "      <th>1</th>\n",
              "      <td>30468</td>\n",
              "      <td>0</td>\n",
              "      <td>1</td>\n",
              "      <td>1</td>\n",
              "      <td>0</td>\n",
              "      <td>0</td>\n",
              "      <td>1</td>\n",
              "      <td>1</td>\n",
              "      <td>0</td>\n",
              "      <td>1</td>\n",
              "      <td>0</td>\n",
              "      <td>0</td>\n",
              "    </tr>\n",
              "    <tr>\n",
              "      <th>2</th>\n",
              "      <td>16523</td>\n",
              "      <td>1</td>\n",
              "      <td>0</td>\n",
              "      <td>0</td>\n",
              "      <td>0</td>\n",
              "      <td>1</td>\n",
              "      <td>1</td>\n",
              "      <td>1</td>\n",
              "      <td>0</td>\n",
              "      <td>0</td>\n",
              "      <td>0</td>\n",
              "      <td>0</td>\n",
              "    </tr>\n",
              "    <tr>\n",
              "      <th>3</th>\n",
              "      <td>56543</td>\n",
              "      <td>1</td>\n",
              "      <td>1</td>\n",
              "      <td>0</td>\n",
              "      <td>0</td>\n",
              "      <td>0</td>\n",
              "      <td>1</td>\n",
              "      <td>0</td>\n",
              "      <td>0</td>\n",
              "      <td>1</td>\n",
              "      <td>1</td>\n",
              "      <td>0</td>\n",
              "    </tr>\n",
              "    <tr>\n",
              "      <th>4</th>\n",
              "      <td>46136</td>\n",
              "      <td>0</td>\n",
              "      <td>0</td>\n",
              "      <td>0</td>\n",
              "      <td>0</td>\n",
              "      <td>1</td>\n",
              "      <td>0</td>\n",
              "      <td>0</td>\n",
              "      <td>1</td>\n",
              "      <td>0</td>\n",
              "      <td>0</td>\n",
              "      <td>0</td>\n",
              "    </tr>\n",
              "  </tbody>\n",
              "</table>\n",
              "</div>"
            ],
            "text/plain": [
              "      id  gender  age  ...  bmi  smoking_status  stroke\n",
              "0  30669       0    0  ...    0               0       0\n",
              "1  30468       0    1  ...    1               0       0\n",
              "2  16523       1    0  ...    0               0       0\n",
              "3  56543       1    1  ...    1               1       0\n",
              "4  46136       0    0  ...    0               0       0\n",
              "\n",
              "[5 rows x 12 columns]"
            ]
          },
          "metadata": {
            "tags": []
          },
          "execution_count": 152
        }
      ]
    },
    {
      "cell_type": "markdown",
      "metadata": {
        "id": "BbkHSwR4mJ3f",
        "colab_type": "text"
      },
      "source": [
        "## Prepare model"
      ]
    },
    {
      "cell_type": "code",
      "metadata": {
        "id": "lqijkr68lcF9",
        "colab_type": "code",
        "colab": {}
      },
      "source": [
        "from sklearn.ensemble import RandomForestClassifier"
      ],
      "execution_count": 0,
      "outputs": []
    },
    {
      "cell_type": "code",
      "metadata": {
        "id": "RAlFxxMwlcMo",
        "colab_type": "code",
        "colab": {}
      },
      "source": [
        "modelo = RandomForestClassifier(n_estimators=100, max_depth=2, random_state=42)"
      ],
      "execution_count": 0,
      "outputs": []
    },
    {
      "cell_type": "code",
      "metadata": {
        "id": "WP2yEHe2dhjL",
        "colab_type": "code",
        "outputId": "3908d17e-2f98-4c75-ad6f-da3acf23fe31",
        "colab": {
          "base_uri": "https://localhost:8080/",
          "height": 134
        }
      },
      "source": [
        "modelo.fit(X_train, y_train)"
      ],
      "execution_count": 0,
      "outputs": [
        {
          "output_type": "execute_result",
          "data": {
            "text/plain": [
              "RandomForestClassifier(bootstrap=True, class_weight=None, criterion='gini',\n",
              "                       max_depth=2, max_features='auto', max_leaf_nodes=None,\n",
              "                       min_impurity_decrease=0.0, min_impurity_split=None,\n",
              "                       min_samples_leaf=1, min_samples_split=2,\n",
              "                       min_weight_fraction_leaf=0.0, n_estimators=100,\n",
              "                       n_jobs=None, oob_score=False, random_state=42, verbose=0,\n",
              "                       warm_start=False)"
            ]
          },
          "metadata": {
            "tags": []
          },
          "execution_count": 27
        }
      ]
    },
    {
      "cell_type": "markdown",
      "metadata": {
        "id": "4jb7N_tQmNFI",
        "colab_type": "text"
      },
      "source": [
        "## Evaluate Model"
      ]
    },
    {
      "cell_type": "code",
      "metadata": {
        "id": "4zYtW0dvlcSu",
        "colab_type": "code",
        "colab": {}
      },
      "source": [
        "p = modelo.predict(X_test)"
      ],
      "execution_count": 0,
      "outputs": []
    },
    {
      "cell_type": "code",
      "metadata": {
        "id": "1JSUoXK9e7Kq",
        "colab_type": "code",
        "outputId": "0f6f3aaa-6845-462f-9bf8-b1be4be6725f",
        "colab": {
          "base_uri": "https://localhost:8080/",
          "height": 34
        }
      },
      "source": [
        "p"
      ],
      "execution_count": 0,
      "outputs": [
        {
          "output_type": "execute_result",
          "data": {
            "text/plain": [
              "array([0, 0, 0, ..., 0, 0, 0])"
            ]
          },
          "metadata": {
            "tags": []
          },
          "execution_count": 29
        }
      ]
    },
    {
      "cell_type": "code",
      "metadata": {
        "id": "2SyPyn0otWqz",
        "colab_type": "code",
        "outputId": "730c2f30-4f93-46ce-b395-84f761eb5515",
        "colab": {
          "base_uri": "https://localhost:8080/",
          "height": 222
        }
      },
      "source": [
        "from sklearn.metrics import classification_report\n",
        "print(classification_report(y_test, p))"
      ],
      "execution_count": 0,
      "outputs": [
        {
          "output_type": "stream",
          "text": [
            "              precision    recall  f1-score   support\n",
            "\n",
            "           0       0.98      1.00      0.99     12785\n",
            "           1       0.00      0.00      0.00       235\n",
            "\n",
            "    accuracy                           0.98     13020\n",
            "   macro avg       0.49      0.50      0.50     13020\n",
            "weighted avg       0.96      0.98      0.97     13020\n",
            "\n"
          ],
          "name": "stdout"
        },
        {
          "output_type": "stream",
          "text": [
            "/usr/local/lib/python3.6/dist-packages/sklearn/metrics/classification.py:1437: UndefinedMetricWarning: Precision and F-score are ill-defined and being set to 0.0 in labels with no predicted samples.\n",
            "  'precision', 'predicted', average, warn_for)\n"
          ],
          "name": "stderr"
        }
      ]
    },
    {
      "cell_type": "code",
      "metadata": {
        "id": "GTZjLSSLlcY2",
        "colab_type": "code",
        "outputId": "4a8b79eb-a2c2-44c2-e4d5-e2069d3ac116",
        "colab": {
          "base_uri": "https://localhost:8080/",
          "height": 34
        }
      },
      "source": [
        "modelo.score(X_test, y_test)"
      ],
      "execution_count": 0,
      "outputs": [
        {
          "output_type": "execute_result",
          "data": {
            "text/plain": [
              "0.9819508448540707"
            ]
          },
          "metadata": {
            "tags": []
          },
          "execution_count": 31
        }
      ]
    },
    {
      "cell_type": "markdown",
      "metadata": {
        "id": "EU8vhkZ6gfG0",
        "colab_type": "text"
      },
      "source": [
        "# Cancer Machine Learning Classification Model\n",
        "With numerical variables"
      ]
    },
    {
      "cell_type": "code",
      "metadata": {
        "id": "03nSlatR_wVu",
        "colab_type": "code",
        "colab": {}
      },
      "source": [
        "cols_ca = ['mean_radius',\n",
        " 'mean_texture',\n",
        " 'mean_perimeter',\n",
        " 'mean_area',\n",
        " 'mean_smoothness',\n",
        " 'mean_compactness',\n",
        " 'mean_concavity',\n",
        " 'mean_concave_points',\n",
        " 'mean_symmetry',\n",
        " 'mean_fractal_dimension',\n",
        " 'radius_error',\n",
        " 'texture_error',\n",
        " 'perimeter_error',\n",
        " 'area_error',\n",
        " 'smoothness_error',\n",
        " 'compactness_error',\n",
        " 'concavity_error',\n",
        " 'concave_points_error',\n",
        " 'symmetry_error',\n",
        " 'fractal_dimension_error',\n",
        " 'worst_radius',\n",
        " 'worst_texture',\n",
        " 'worst_perimeter',\n",
        " 'worst_area',\n",
        " 'worst_smoothness',\n",
        " 'worst_compactness',\n",
        " 'worst_concavity',\n",
        " 'worst_concave_points',\n",
        " 'worst_symmetry',\n",
        " 'worst_fractal_dimension',\n",
        " 'target']"
      ],
      "execution_count": 0,
      "outputs": []
    },
    {
      "cell_type": "code",
      "metadata": {
        "id": "YtJgcZAgpHO2",
        "colab_type": "code",
        "colab": {}
      },
      "source": [
        "ca = pd.read_csv(\"http://bit.ly/cadados\", names=cols_ca, decimal=',')"
      ],
      "execution_count": 0,
      "outputs": []
    },
    {
      "cell_type": "code",
      "metadata": {
        "id": "xtYgEGarDwoO",
        "colab_type": "code",
        "outputId": "05f3b279-da86-4959-c1cd-afe2e9d2fea1",
        "colab": {
          "base_uri": "https://localhost:8080/",
          "height": 215
        }
      },
      "source": [
        "ca.head()"
      ],
      "execution_count": 0,
      "outputs": [
        {
          "output_type": "execute_result",
          "data": {
            "text/html": [
              "<div>\n",
              "<style scoped>\n",
              "    .dataframe tbody tr th:only-of-type {\n",
              "        vertical-align: middle;\n",
              "    }\n",
              "\n",
              "    .dataframe tbody tr th {\n",
              "        vertical-align: top;\n",
              "    }\n",
              "\n",
              "    .dataframe thead th {\n",
              "        text-align: right;\n",
              "    }\n",
              "</style>\n",
              "<table border=\"1\" class=\"dataframe\">\n",
              "  <thead>\n",
              "    <tr style=\"text-align: right;\">\n",
              "      <th></th>\n",
              "      <th>mean_radius</th>\n",
              "      <th>mean_texture</th>\n",
              "      <th>mean_perimeter</th>\n",
              "      <th>mean_area</th>\n",
              "      <th>mean_smoothness</th>\n",
              "      <th>mean_compactness</th>\n",
              "      <th>mean_concavity</th>\n",
              "      <th>mean_concave_points</th>\n",
              "      <th>mean_symmetry</th>\n",
              "      <th>mean_fractal_dimension</th>\n",
              "      <th>radius_error</th>\n",
              "      <th>texture_error</th>\n",
              "      <th>perimeter_error</th>\n",
              "      <th>area_error</th>\n",
              "      <th>smoothness_error</th>\n",
              "      <th>compactness_error</th>\n",
              "      <th>concavity_error</th>\n",
              "      <th>concave_points_error</th>\n",
              "      <th>symmetry_error</th>\n",
              "      <th>fractal_dimension_error</th>\n",
              "      <th>worst_radius</th>\n",
              "      <th>worst_texture</th>\n",
              "      <th>worst_perimeter</th>\n",
              "      <th>worst_area</th>\n",
              "      <th>worst_smoothness</th>\n",
              "      <th>worst_compactness</th>\n",
              "      <th>worst_concavity</th>\n",
              "      <th>worst_concave_points</th>\n",
              "      <th>worst_symmetry</th>\n",
              "      <th>worst_fractal_dimension</th>\n",
              "      <th>target</th>\n",
              "    </tr>\n",
              "  </thead>\n",
              "  <tbody>\n",
              "    <tr>\n",
              "      <th>0</th>\n",
              "      <td>17.99</td>\n",
              "      <td>10.38</td>\n",
              "      <td>122.80</td>\n",
              "      <td>1001.0</td>\n",
              "      <td>0.0</td>\n",
              "      <td>0.0</td>\n",
              "      <td>0.0</td>\n",
              "      <td>0.0</td>\n",
              "      <td>0.0</td>\n",
              "      <td>0.0</td>\n",
              "      <td>1.0</td>\n",
              "      <td>1.0</td>\n",
              "      <td>9.0</td>\n",
              "      <td>153.40</td>\n",
              "      <td>0.0</td>\n",
              "      <td>0.0</td>\n",
              "      <td>0.0</td>\n",
              "      <td>0.0</td>\n",
              "      <td>0</td>\n",
              "      <td>0</td>\n",
              "      <td>25.38</td>\n",
              "      <td>17.33</td>\n",
              "      <td>184.60</td>\n",
              "      <td>2019.0</td>\n",
              "      <td>0.0</td>\n",
              "      <td>1.0</td>\n",
              "      <td>1.0</td>\n",
              "      <td>0.0</td>\n",
              "      <td>0.0</td>\n",
              "      <td>0.0</td>\n",
              "      <td>0.0</td>\n",
              "    </tr>\n",
              "    <tr>\n",
              "      <th>1</th>\n",
              "      <td>20.57</td>\n",
              "      <td>17.77</td>\n",
              "      <td>132.90</td>\n",
              "      <td>1326.0</td>\n",
              "      <td>0.0</td>\n",
              "      <td>0.0</td>\n",
              "      <td>0.0</td>\n",
              "      <td>0.0</td>\n",
              "      <td>0.0</td>\n",
              "      <td>0.0</td>\n",
              "      <td>1.0</td>\n",
              "      <td>1.0</td>\n",
              "      <td>3.0</td>\n",
              "      <td>74.08</td>\n",
              "      <td>0.0</td>\n",
              "      <td>0.0</td>\n",
              "      <td>0.0</td>\n",
              "      <td>0.0</td>\n",
              "      <td>0</td>\n",
              "      <td>0</td>\n",
              "      <td>24.99</td>\n",
              "      <td>23.41</td>\n",
              "      <td>158.80</td>\n",
              "      <td>1956.0</td>\n",
              "      <td>0.0</td>\n",
              "      <td>0.0</td>\n",
              "      <td>0.0</td>\n",
              "      <td>0.0</td>\n",
              "      <td>0.0</td>\n",
              "      <td>0.0</td>\n",
              "      <td>0.0</td>\n",
              "    </tr>\n",
              "    <tr>\n",
              "      <th>2</th>\n",
              "      <td>19.69</td>\n",
              "      <td>21.25</td>\n",
              "      <td>130.00</td>\n",
              "      <td>1203.0</td>\n",
              "      <td>0.0</td>\n",
              "      <td>0.0</td>\n",
              "      <td>0.0</td>\n",
              "      <td>0.0</td>\n",
              "      <td>0.0</td>\n",
              "      <td>0.0</td>\n",
              "      <td>1.0</td>\n",
              "      <td>1.0</td>\n",
              "      <td>5.0</td>\n",
              "      <td>94.03</td>\n",
              "      <td>0.0</td>\n",
              "      <td>0.0</td>\n",
              "      <td>0.0</td>\n",
              "      <td>0.0</td>\n",
              "      <td>0</td>\n",
              "      <td>0</td>\n",
              "      <td>23.57</td>\n",
              "      <td>25.53</td>\n",
              "      <td>152.50</td>\n",
              "      <td>1709.0</td>\n",
              "      <td>0.0</td>\n",
              "      <td>0.0</td>\n",
              "      <td>0.0</td>\n",
              "      <td>0.0</td>\n",
              "      <td>0.0</td>\n",
              "      <td>0.0</td>\n",
              "      <td>0.0</td>\n",
              "    </tr>\n",
              "    <tr>\n",
              "      <th>3</th>\n",
              "      <td>11.42</td>\n",
              "      <td>20.38</td>\n",
              "      <td>77.58</td>\n",
              "      <td>386.1</td>\n",
              "      <td>0.0</td>\n",
              "      <td>0.0</td>\n",
              "      <td>0.0</td>\n",
              "      <td>0.0</td>\n",
              "      <td>0.0</td>\n",
              "      <td>0.0</td>\n",
              "      <td>0.0</td>\n",
              "      <td>1.0</td>\n",
              "      <td>3.0</td>\n",
              "      <td>27.23</td>\n",
              "      <td>0.0</td>\n",
              "      <td>0.0</td>\n",
              "      <td>0.0</td>\n",
              "      <td>0.0</td>\n",
              "      <td>0</td>\n",
              "      <td>0</td>\n",
              "      <td>14.91</td>\n",
              "      <td>26.50</td>\n",
              "      <td>98.87</td>\n",
              "      <td>567.7</td>\n",
              "      <td>0.0</td>\n",
              "      <td>1.0</td>\n",
              "      <td>1.0</td>\n",
              "      <td>0.0</td>\n",
              "      <td>1.0</td>\n",
              "      <td>0.0</td>\n",
              "      <td>0.0</td>\n",
              "    </tr>\n",
              "    <tr>\n",
              "      <th>4</th>\n",
              "      <td>20.29</td>\n",
              "      <td>14.34</td>\n",
              "      <td>135.10</td>\n",
              "      <td>1297.0</td>\n",
              "      <td>0.0</td>\n",
              "      <td>0.0</td>\n",
              "      <td>0.0</td>\n",
              "      <td>0.0</td>\n",
              "      <td>0.0</td>\n",
              "      <td>0.0</td>\n",
              "      <td>1.0</td>\n",
              "      <td>1.0</td>\n",
              "      <td>5.0</td>\n",
              "      <td>94.44</td>\n",
              "      <td>0.0</td>\n",
              "      <td>0.0</td>\n",
              "      <td>0.0</td>\n",
              "      <td>0.0</td>\n",
              "      <td>0</td>\n",
              "      <td>0</td>\n",
              "      <td>22.54</td>\n",
              "      <td>16.67</td>\n",
              "      <td>152.20</td>\n",
              "      <td>1575.0</td>\n",
              "      <td>0.0</td>\n",
              "      <td>0.0</td>\n",
              "      <td>0.4</td>\n",
              "      <td>0.0</td>\n",
              "      <td>0.0</td>\n",
              "      <td>0.0</td>\n",
              "      <td>0.0</td>\n",
              "    </tr>\n",
              "  </tbody>\n",
              "</table>\n",
              "</div>"
            ],
            "text/plain": [
              "   mean_radius  mean_texture  ...  worst_fractal_dimension  target\n",
              "0        17.99         10.38  ...                      0.0     0.0\n",
              "1        20.57         17.77  ...                      0.0     0.0\n",
              "2        19.69         21.25  ...                      0.0     0.0\n",
              "3        11.42         20.38  ...                      0.0     0.0\n",
              "4        20.29         14.34  ...                      0.0     0.0\n",
              "\n",
              "[5 rows x 31 columns]"
            ]
          },
          "metadata": {
            "tags": []
          },
          "execution_count": 35
        }
      ]
    },
    {
      "cell_type": "code",
      "metadata": {
        "id": "Dc4vFPcOpsMC",
        "colab_type": "code",
        "outputId": "d295af8d-735d-46b9-c932-cbfe2a6ce7c5",
        "colab": {
          "base_uri": "https://localhost:8080/",
          "height": 544
        }
      },
      "source": [
        "ca.columns.tolist()"
      ],
      "execution_count": 0,
      "outputs": [
        {
          "output_type": "execute_result",
          "data": {
            "text/plain": [
              "['mean_radius',\n",
              " 'mean_texture',\n",
              " 'mean_perimeter',\n",
              " 'mean_area',\n",
              " 'mean_smoothness',\n",
              " 'mean_compactness',\n",
              " 'mean_concavity',\n",
              " 'mean_concave_points',\n",
              " 'mean_symmetry',\n",
              " 'mean_fractal_dimension',\n",
              " 'radius_error',\n",
              " 'texture_error',\n",
              " 'perimeter_error',\n",
              " 'area_error',\n",
              " 'smoothness_error',\n",
              " 'compactness_error',\n",
              " 'concavity_error',\n",
              " 'concave_points_error',\n",
              " 'symmetry_error',\n",
              " 'fractal_dimension_error',\n",
              " 'worst_radius',\n",
              " 'worst_texture',\n",
              " 'worst_perimeter',\n",
              " 'worst_area',\n",
              " 'worst_smoothness',\n",
              " 'worst_compactness',\n",
              " 'worst_concavity',\n",
              " 'worst_concave_points',\n",
              " 'worst_symmetry',\n",
              " 'worst_fractal_dimension',\n",
              " 'target']"
            ]
          },
          "metadata": {
            "tags": []
          },
          "execution_count": 132
        }
      ]
    },
    {
      "cell_type": "code",
      "metadata": {
        "id": "cRQl6aF2A9HX",
        "colab_type": "code",
        "outputId": "19b6d84e-1c3a-4ab9-b5c4-b25f31202f9b",
        "colab": {
          "base_uri": "https://localhost:8080/",
          "height": 34
        }
      },
      "source": [
        "ca.shape"
      ],
      "execution_count": 0,
      "outputs": [
        {
          "output_type": "execute_result",
          "data": {
            "text/plain": [
              "(573, 31)"
            ]
          },
          "metadata": {
            "tags": []
          },
          "execution_count": 83
        }
      ]
    },
    {
      "cell_type": "code",
      "metadata": {
        "id": "RfF9fMFRE_6V",
        "colab_type": "code",
        "outputId": "ff204821-cd16-4e7e-c08b-0891c15e570e",
        "colab": {
          "base_uri": "https://localhost:8080/",
          "height": 561
        }
      },
      "source": [
        "ca.isnull().sum()"
      ],
      "execution_count": 0,
      "outputs": [
        {
          "output_type": "execute_result",
          "data": {
            "text/plain": [
              "mean_radius                  1\n",
              "mean_texture                 0\n",
              "mean_perimeter               1\n",
              "mean_area                    0\n",
              "mean_smoothness              2\n",
              "mean_compactness             0\n",
              "mean_concavity               0\n",
              "mean_concave_points          1\n",
              "mean_symmetry                0\n",
              "mean_fractal_dimension       1\n",
              "radius_error                 0\n",
              "texture_error                1\n",
              "perimeter_error              0\n",
              "area_error                   1\n",
              "smoothness_error             0\n",
              "compactness_error            1\n",
              "concavity_error              0\n",
              "concave_points_error         1\n",
              "symmetry_error               0\n",
              "fractal_dimension_error      0\n",
              "worst_radius                 2\n",
              "worst_texture                0\n",
              "worst_perimeter              1\n",
              "worst_area                   0\n",
              "worst_smoothness             2\n",
              "worst_compactness            0\n",
              "worst_concavity              2\n",
              "worst_concave_points       140\n",
              "worst_symmetry               0\n",
              "worst_fractal_dimension      1\n",
              "target                       4\n",
              "dtype: int64"
            ]
          },
          "metadata": {
            "tags": []
          },
          "execution_count": 84
        }
      ]
    },
    {
      "cell_type": "code",
      "metadata": {
        "id": "-pgUhY4vE8_N",
        "colab_type": "code",
        "colab": {}
      },
      "source": [
        "#ca.dropna()\n",
        "#ca.shape"
      ],
      "execution_count": 0,
      "outputs": []
    },
    {
      "cell_type": "code",
      "metadata": {
        "id": "FftOResqFMkm",
        "colab_type": "code",
        "colab": {}
      },
      "source": [
        "ca = ca.drop('worst_concave_points', 1)"
      ],
      "execution_count": 0,
      "outputs": []
    },
    {
      "cell_type": "code",
      "metadata": {
        "id": "Ux_aaKqXFae-",
        "colab_type": "code",
        "outputId": "1c188f6d-3403-4cc2-c35c-b038a97029fb",
        "colab": {
          "base_uri": "https://localhost:8080/",
          "height": 34
        }
      },
      "source": [
        "ca.dropna(inplace=True)\n",
        "ca.shape"
      ],
      "execution_count": 0,
      "outputs": [
        {
          "output_type": "execute_result",
          "data": {
            "text/plain": [
              "(552, 30)"
            ]
          },
          "metadata": {
            "tags": []
          },
          "execution_count": 135
        }
      ]
    },
    {
      "cell_type": "code",
      "metadata": {
        "id": "nYmo4PaECE52",
        "colab_type": "code",
        "colab": {}
      },
      "source": [
        "X = ca.drop('target', 1)\n",
        "y = ca.target"
      ],
      "execution_count": 0,
      "outputs": []
    },
    {
      "cell_type": "code",
      "metadata": {
        "id": "2CpdgRP7f-xe",
        "colab_type": "code",
        "colab": {}
      },
      "source": [
        "#y"
      ],
      "execution_count": 0,
      "outputs": []
    },
    {
      "cell_type": "code",
      "metadata": {
        "id": "RS30MwauBDDR",
        "colab_type": "code",
        "colab": {}
      },
      "source": [
        "from sklearn.model_selection import train_test_split\n",
        "X_train, X_test, y_train, y_test = train_test_split(X, y, test_size=0.30, random_state=42)"
      ],
      "execution_count": 0,
      "outputs": []
    },
    {
      "cell_type": "code",
      "metadata": {
        "id": "Ss7NlR6jBk_q",
        "colab_type": "code",
        "colab": {}
      },
      "source": [
        "from sklearn.ensemble import RandomForestClassifier\n",
        "modelo = RandomForestClassifier()"
      ],
      "execution_count": 0,
      "outputs": []
    },
    {
      "cell_type": "code",
      "metadata": {
        "id": "ycFempLFCMHl",
        "colab_type": "code",
        "outputId": "e768bbc7-515e-4aa8-e881-1d8448d94989",
        "colab": {
          "base_uri": "https://localhost:8080/",
          "height": 190
        }
      },
      "source": [
        "#\tTrain\tthe\tmodel \n",
        "modelo.fit(X_train,\ty_train)"
      ],
      "execution_count": 0,
      "outputs": [
        {
          "output_type": "stream",
          "text": [
            "/usr/local/lib/python3.6/dist-packages/sklearn/ensemble/forest.py:245: FutureWarning: The default value of n_estimators will change from 10 in version 0.20 to 100 in 0.22.\n",
            "  \"10 in version 0.20 to 100 in 0.22.\", FutureWarning)\n"
          ],
          "name": "stderr"
        },
        {
          "output_type": "execute_result",
          "data": {
            "text/plain": [
              "RandomForestClassifier(bootstrap=True, class_weight=None, criterion='gini',\n",
              "                       max_depth=None, max_features='auto', max_leaf_nodes=None,\n",
              "                       min_impurity_decrease=0.0, min_impurity_split=None,\n",
              "                       min_samples_leaf=1, min_samples_split=2,\n",
              "                       min_weight_fraction_leaf=0.0, n_estimators=10,\n",
              "                       n_jobs=None, oob_score=False, random_state=None,\n",
              "                       verbose=0, warm_start=False)"
            ]
          },
          "metadata": {
            "tags": []
          },
          "execution_count": 142
        }
      ]
    },
    {
      "cell_type": "code",
      "metadata": {
        "id": "S2zOf-lWKcwW",
        "colab_type": "code",
        "colab": {}
      },
      "source": [
        "p = modelo.predict(X_test)"
      ],
      "execution_count": 0,
      "outputs": []
    },
    {
      "cell_type": "code",
      "metadata": {
        "id": "fynVcXz2F3SW",
        "colab_type": "code",
        "outputId": "1b8c400e-c9ea-4975-f00b-f599d46de65e",
        "colab": {
          "base_uri": "https://localhost:8080/",
          "height": 187
        }
      },
      "source": [
        "p"
      ],
      "execution_count": 0,
      "outputs": [
        {
          "output_type": "execute_result",
          "data": {
            "text/plain": [
              "array([0., 0., 1., 0., 1., 1., 1., 1., 1., 1., 0., 0., 1., 1., 0., 1., 1.,\n",
              "       0., 1., 1., 0., 1., 1., 1., 1., 1., 0., 1., 1., 1., 1., 0., 0., 1.,\n",
              "       0., 0., 1., 1., 0., 1., 1., 1., 1., 1., 1., 1., 0., 1., 0., 1., 0.,\n",
              "       1., 1., 1., 0., 1., 1., 1., 1., 1., 1., 1., 1., 0., 1., 1., 0., 1.,\n",
              "       1., 0., 1., 1., 1., 0., 1., 0., 1., 1., 0., 0., 0., 1., 1., 0., 1.,\n",
              "       0., 1., 1., 1., 0., 0., 1., 1., 0., 0., 1., 0., 0., 1., 0., 0., 1.,\n",
              "       1., 0., 1., 1., 0., 1., 1., 1., 0., 1., 1., 1., 0., 1., 1., 1., 0.,\n",
              "       1., 0., 0., 1., 0., 1., 1., 0., 1., 1., 0., 1., 1., 1., 1., 0., 1.,\n",
              "       0., 1., 1., 1., 0., 1., 1., 1., 0., 1., 1., 0., 1., 1., 0., 1., 1.,\n",
              "       1., 1., 1., 1., 0., 1., 1., 0., 1., 1., 1., 0., 0.])"
            ]
          },
          "metadata": {
            "tags": []
          },
          "execution_count": 144
        }
      ]
    },
    {
      "cell_type": "code",
      "metadata": {
        "id": "qC5OMPJQG1W6",
        "colab_type": "code",
        "outputId": "e93545b1-501a-4965-d0e3-24dba4927c16",
        "colab": {
          "base_uri": "https://localhost:8080/",
          "height": 34
        }
      },
      "source": [
        "modelo.score(X_test, y_test)"
      ],
      "execution_count": 0,
      "outputs": [
        {
          "output_type": "execute_result",
          "data": {
            "text/plain": [
              "0.9337349397590361"
            ]
          },
          "metadata": {
            "tags": []
          },
          "execution_count": 145
        }
      ]
    },
    {
      "cell_type": "code",
      "metadata": {
        "id": "TxIX3c4pKfzG",
        "colab_type": "code",
        "outputId": "fe69059c-1a7a-4f7f-e5a6-229cf56f7ab8",
        "colab": {
          "base_uri": "https://localhost:8080/",
          "height": 170
        }
      },
      "source": [
        "from sklearn.metrics import classification_report\n",
        "print(classification_report(y_test, p))"
      ],
      "execution_count": 0,
      "outputs": [
        {
          "output_type": "stream",
          "text": [
            "              precision    recall  f1-score   support\n",
            "\n",
            "         0.0       0.93      0.88      0.90        59\n",
            "         1.0       0.94      0.96      0.95       107\n",
            "\n",
            "    accuracy                           0.93       166\n",
            "   macro avg       0.93      0.92      0.93       166\n",
            "weighted avg       0.93      0.93      0.93       166\n",
            "\n"
          ],
          "name": "stdout"
        }
      ]
    },
    {
      "cell_type": "markdown",
      "metadata": {
        "id": "wHhZ-E0tiTIw",
        "colab_type": "text"
      },
      "source": [
        "# Cardiovascular Machine Learning Classification Model\n",
        "With categorical features"
      ]
    },
    {
      "cell_type": "code",
      "metadata": {
        "id": "Vi1OSAE9iV-d",
        "colab_type": "code",
        "colab": {}
      },
      "source": [
        "cvd = pd.read_csv('http://bit.ly/cardiodados')"
      ],
      "execution_count": 0,
      "outputs": []
    },
    {
      "cell_type": "code",
      "metadata": {
        "id": "mRx_qESaSyZr",
        "colab_type": "code",
        "outputId": "4ec3c8b8-0199-4295-aee5-47ec8d795926",
        "colab": {
          "base_uri": "https://localhost:8080/",
          "height": 195
        }
      },
      "source": [
        "cvd.head()"
      ],
      "execution_count": 0,
      "outputs": [
        {
          "output_type": "execute_result",
          "data": {
            "text/html": [
              "<div>\n",
              "<style scoped>\n",
              "    .dataframe tbody tr th:only-of-type {\n",
              "        vertical-align: middle;\n",
              "    }\n",
              "\n",
              "    .dataframe tbody tr th {\n",
              "        vertical-align: top;\n",
              "    }\n",
              "\n",
              "    .dataframe thead th {\n",
              "        text-align: right;\n",
              "    }\n",
              "</style>\n",
              "<table border=\"1\" class=\"dataframe\">\n",
              "  <thead>\n",
              "    <tr style=\"text-align: right;\">\n",
              "      <th></th>\n",
              "      <th>patientID</th>\n",
              "      <th>age</th>\n",
              "      <th>htn</th>\n",
              "      <th>treat</th>\n",
              "      <th>smoking</th>\n",
              "      <th>race</th>\n",
              "      <th>t2d</th>\n",
              "      <th>gender</th>\n",
              "      <th>numAge</th>\n",
              "      <th>bmi</th>\n",
              "      <th>tchol</th>\n",
              "      <th>sbp</th>\n",
              "      <th>cvd</th>\n",
              "    </tr>\n",
              "  </thead>\n",
              "  <tbody>\n",
              "    <tr>\n",
              "      <th>0</th>\n",
              "      <td>HHUID00519967</td>\n",
              "      <td>70-90</td>\n",
              "      <td>N</td>\n",
              "      <td>N</td>\n",
              "      <td>N</td>\n",
              "      <td>White</td>\n",
              "      <td>N</td>\n",
              "      <td>M</td>\n",
              "      <td>83</td>\n",
              "      <td>17</td>\n",
              "      <td>156</td>\n",
              "      <td>113</td>\n",
              "      <td>N</td>\n",
              "    </tr>\n",
              "    <tr>\n",
              "      <th>1</th>\n",
              "      <td>HHUID00379006</td>\n",
              "      <td>40-55</td>\n",
              "      <td>N</td>\n",
              "      <td>N</td>\n",
              "      <td>N</td>\n",
              "      <td>White</td>\n",
              "      <td>N</td>\n",
              "      <td>M</td>\n",
              "      <td>44</td>\n",
              "      <td>23</td>\n",
              "      <td>167</td>\n",
              "      <td>126</td>\n",
              "      <td>N</td>\n",
              "    </tr>\n",
              "    <tr>\n",
              "      <th>2</th>\n",
              "      <td>HHUID00357476</td>\n",
              "      <td>55-70</td>\n",
              "      <td>Y</td>\n",
              "      <td>Y</td>\n",
              "      <td>N</td>\n",
              "      <td>White</td>\n",
              "      <td>N</td>\n",
              "      <td>M</td>\n",
              "      <td>62</td>\n",
              "      <td>16</td>\n",
              "      <td>214</td>\n",
              "      <td>175</td>\n",
              "      <td>N</td>\n",
              "    </tr>\n",
              "    <tr>\n",
              "      <th>3</th>\n",
              "      <td>HHUID00862369</td>\n",
              "      <td>40-55</td>\n",
              "      <td>N</td>\n",
              "      <td>N</td>\n",
              "      <td>N</td>\n",
              "      <td>White</td>\n",
              "      <td>N</td>\n",
              "      <td>M</td>\n",
              "      <td>42</td>\n",
              "      <td>22</td>\n",
              "      <td>158</td>\n",
              "      <td>102</td>\n",
              "      <td>N</td>\n",
              "    </tr>\n",
              "    <tr>\n",
              "      <th>4</th>\n",
              "      <td>HHUID00481496</td>\n",
              "      <td>55-70</td>\n",
              "      <td>N</td>\n",
              "      <td>N</td>\n",
              "      <td>N</td>\n",
              "      <td>White</td>\n",
              "      <td>N</td>\n",
              "      <td>M</td>\n",
              "      <td>63</td>\n",
              "      <td>24</td>\n",
              "      <td>244</td>\n",
              "      <td>132</td>\n",
              "      <td>N</td>\n",
              "    </tr>\n",
              "  </tbody>\n",
              "</table>\n",
              "</div>"
            ],
            "text/plain": [
              "       patientID    age htn treat smoking  ... numAge bmi tchol  sbp  cvd\n",
              "0  HHUID00519967  70-90   N     N       N  ...     83  17   156  113    N\n",
              "1  HHUID00379006  40-55   N     N       N  ...     44  23   167  126    N\n",
              "2  HHUID00357476  55-70   Y     Y       N  ...     62  16   214  175    N\n",
              "3  HHUID00862369  40-55   N     N       N  ...     42  22   158  102    N\n",
              "4  HHUID00481496  55-70   N     N       N  ...     63  24   244  132    N\n",
              "\n",
              "[5 rows x 13 columns]"
            ]
          },
          "metadata": {
            "tags": []
          },
          "execution_count": 87
        }
      ]
    },
    {
      "cell_type": "markdown",
      "metadata": {
        "id": "3CttXYYS6vhD",
        "colab_type": "text"
      },
      "source": [
        "### Explore Data"
      ]
    },
    {
      "cell_type": "code",
      "metadata": {
        "id": "bTgv8xrJ6y59",
        "colab_type": "code",
        "outputId": "19871646-3621-4cc3-a4ce-9d1c9e29d68c",
        "colab": {
          "base_uri": "https://localhost:8080/",
          "height": 746
        }
      },
      "source": [
        "import seaborn as sns\n",
        "sns.pairplot(cvd, hue='cvd')"
      ],
      "execution_count": 0,
      "outputs": [
        {
          "output_type": "execute_result",
          "data": {
            "text/plain": [
              "<seaborn.axisgrid.PairGrid at 0x7fa853577ef0>"
            ]
          },
          "metadata": {
            "tags": []
          },
          "execution_count": 88
        },
        {
          "output_type": "display_data",
          "data": {
            "image/png": "[encoded data removed]",
            "text/plain": [
              "<Figure size 763.5x720 with 20 Axes>"
            ]
          },
          "metadata": {
            "tags": []
          }
        }
      ]
    },
    {
      "cell_type": "markdown",
      "metadata": {
        "id": "DdSDND5L6wqu",
        "colab_type": "text"
      },
      "source": [
        "### Transform Data"
      ]
    },
    {
      "cell_type": "code",
      "metadata": {
        "id": "Ay6AQDjDifkJ",
        "colab_type": "code",
        "colab": {}
      },
      "source": [
        "def transform(valor):\n",
        "  if valor == 'Y':\n",
        "    return 1\n",
        "  else:\n",
        "    return 0"
      ],
      "execution_count": 0,
      "outputs": []
    },
    {
      "cell_type": "code",
      "metadata": {
        "id": "dk15Xg8KnBjV",
        "colab_type": "code",
        "colab": {}
      },
      "source": [
        "def gender(valor):\n",
        "  if valor == 'F':\n",
        "    return 1\n",
        "  else:\n",
        "    return 0"
      ],
      "execution_count": 0,
      "outputs": []
    },
    {
      "cell_type": "code",
      "metadata": {
        "id": "TgdHVENdnD4L",
        "colab_type": "code",
        "colab": {}
      },
      "source": [
        "cvd['htn'] = cvd['htn'].map(transform) \n",
        "cvd['treat'] = cvd['treat'].map(transform) \n",
        "cvd['smoking'] = cvd['smoking'].map(transform) \n",
        "cvd['t2d'] = cvd['t2d'].map(transform) \n",
        "cvd['cvd'] = cvd['cvd'].map(transform) \n",
        "cvd['gender'] = cvd['gender'].map(gender) "
      ],
      "execution_count": 0,
      "outputs": []
    },
    {
      "cell_type": "code",
      "metadata": {
        "id": "A91ZL3UFnwNe",
        "colab_type": "code",
        "outputId": "55ba8bf2-7b09-4612-a61f-5f4a12385f55",
        "colab": {
          "base_uri": "https://localhost:8080/",
          "height": 101
        }
      },
      "source": [
        "cvd.race.value_counts()"
      ],
      "execution_count": 0,
      "outputs": [
        {
          "output_type": "execute_result",
          "data": {
            "text/plain": [
              "White         335201\n",
              "Asian/PI       84840\n",
              "Black/AfAm     23722\n",
              "AmInd           2440\n",
              "Name: race, dtype: int64"
            ]
          },
          "metadata": {
            "tags": []
          },
          "execution_count": 80
        }
      ]
    },
    {
      "cell_type": "code",
      "metadata": {
        "id": "n49CYpdinqvq",
        "colab_type": "code",
        "colab": {}
      },
      "source": [
        "cvd['asian'] = 0\n",
        "cvd.loc[ cvd['race'] == 'Asian/PI', 'asian' ] = 1\n",
        "\n",
        "cvd['white'] = 0\n",
        "cvd.loc[ cvd['race'] == 'White', 'asian' ] = 1\n",
        "\n",
        "cvd['black'] = 0\n",
        "cvd.loc[ cvd['race'] == 'Black/AfAm', 'black' ] = 1\n",
        "\n",
        "cvd['amind'] = 0\n",
        "cvd.loc[ cvd['race'] == 'AmInd', 'asian' ] = 1"
      ],
      "execution_count": 0,
      "outputs": []
    },
    {
      "cell_type": "code",
      "metadata": {
        "id": "t9DrJuT8omJ6",
        "colab_type": "code",
        "colab": {}
      },
      "source": [
        "cvd = cvd.drop('race', 1)"
      ],
      "execution_count": 0,
      "outputs": []
    },
    {
      "cell_type": "markdown",
      "metadata": {
        "id": "4tzOOMRMpATr",
        "colab_type": "text"
      },
      "source": [
        "### Data types"
      ]
    },
    {
      "cell_type": "code",
      "metadata": {
        "id": "8ZL5qtCJpCpx",
        "colab_type": "code",
        "outputId": "f2783405-2933-41f3-dff9-ffc3b0f804e3",
        "colab": {
          "base_uri": "https://localhost:8080/",
          "height": 195
        }
      },
      "source": [
        "cvd.head()"
      ],
      "execution_count": 0,
      "outputs": [
        {
          "output_type": "execute_result",
          "data": {
            "text/html": [
              "<div>\n",
              "<style scoped>\n",
              "    .dataframe tbody tr th:only-of-type {\n",
              "        vertical-align: middle;\n",
              "    }\n",
              "\n",
              "    .dataframe tbody tr th {\n",
              "        vertical-align: top;\n",
              "    }\n",
              "\n",
              "    .dataframe thead th {\n",
              "        text-align: right;\n",
              "    }\n",
              "</style>\n",
              "<table border=\"1\" class=\"dataframe\">\n",
              "  <thead>\n",
              "    <tr style=\"text-align: right;\">\n",
              "      <th></th>\n",
              "      <th>patientID</th>\n",
              "      <th>age</th>\n",
              "      <th>htn</th>\n",
              "      <th>treat</th>\n",
              "      <th>smoking</th>\n",
              "      <th>t2d</th>\n",
              "      <th>gender</th>\n",
              "      <th>numAge</th>\n",
              "      <th>bmi</th>\n",
              "      <th>tchol</th>\n",
              "      <th>sbp</th>\n",
              "      <th>cvd</th>\n",
              "      <th>asian</th>\n",
              "      <th>white</th>\n",
              "      <th>black</th>\n",
              "      <th>amind</th>\n",
              "    </tr>\n",
              "  </thead>\n",
              "  <tbody>\n",
              "    <tr>\n",
              "      <th>0</th>\n",
              "      <td>HHUID00519967</td>\n",
              "      <td>70-90</td>\n",
              "      <td>0</td>\n",
              "      <td>0</td>\n",
              "      <td>0</td>\n",
              "      <td>0</td>\n",
              "      <td>0</td>\n",
              "      <td>83</td>\n",
              "      <td>17</td>\n",
              "      <td>156</td>\n",
              "      <td>113</td>\n",
              "      <td>0</td>\n",
              "      <td>1</td>\n",
              "      <td>0</td>\n",
              "      <td>0</td>\n",
              "      <td>0</td>\n",
              "    </tr>\n",
              "    <tr>\n",
              "      <th>1</th>\n",
              "      <td>HHUID00379006</td>\n",
              "      <td>40-55</td>\n",
              "      <td>0</td>\n",
              "      <td>0</td>\n",
              "      <td>0</td>\n",
              "      <td>0</td>\n",
              "      <td>0</td>\n",
              "      <td>44</td>\n",
              "      <td>23</td>\n",
              "      <td>167</td>\n",
              "      <td>126</td>\n",
              "      <td>0</td>\n",
              "      <td>1</td>\n",
              "      <td>0</td>\n",
              "      <td>0</td>\n",
              "      <td>0</td>\n",
              "    </tr>\n",
              "    <tr>\n",
              "      <th>2</th>\n",
              "      <td>HHUID00357476</td>\n",
              "      <td>55-70</td>\n",
              "      <td>1</td>\n",
              "      <td>1</td>\n",
              "      <td>0</td>\n",
              "      <td>0</td>\n",
              "      <td>0</td>\n",
              "      <td>62</td>\n",
              "      <td>16</td>\n",
              "      <td>214</td>\n",
              "      <td>175</td>\n",
              "      <td>0</td>\n",
              "      <td>1</td>\n",
              "      <td>0</td>\n",
              "      <td>0</td>\n",
              "      <td>0</td>\n",
              "    </tr>\n",
              "    <tr>\n",
              "      <th>3</th>\n",
              "      <td>HHUID00862369</td>\n",
              "      <td>40-55</td>\n",
              "      <td>0</td>\n",
              "      <td>0</td>\n",
              "      <td>0</td>\n",
              "      <td>0</td>\n",
              "      <td>0</td>\n",
              "      <td>42</td>\n",
              "      <td>22</td>\n",
              "      <td>158</td>\n",
              "      <td>102</td>\n",
              "      <td>0</td>\n",
              "      <td>1</td>\n",
              "      <td>0</td>\n",
              "      <td>0</td>\n",
              "      <td>0</td>\n",
              "    </tr>\n",
              "    <tr>\n",
              "      <th>4</th>\n",
              "      <td>HHUID00481496</td>\n",
              "      <td>55-70</td>\n",
              "      <td>0</td>\n",
              "      <td>0</td>\n",
              "      <td>0</td>\n",
              "      <td>0</td>\n",
              "      <td>0</td>\n",
              "      <td>63</td>\n",
              "      <td>24</td>\n",
              "      <td>244</td>\n",
              "      <td>132</td>\n",
              "      <td>0</td>\n",
              "      <td>1</td>\n",
              "      <td>0</td>\n",
              "      <td>0</td>\n",
              "      <td>0</td>\n",
              "    </tr>\n",
              "  </tbody>\n",
              "</table>\n",
              "</div>"
            ],
            "text/plain": [
              "       patientID    age  htn  treat  smoking  ...  cvd  asian  white  black  amind\n",
              "0  HHUID00519967  70-90    0      0        0  ...    0      1      0      0      0\n",
              "1  HHUID00379006  40-55    0      0        0  ...    0      1      0      0      0\n",
              "2  HHUID00357476  55-70    1      1        0  ...    0      1      0      0      0\n",
              "3  HHUID00862369  40-55    0      0        0  ...    0      1      0      0      0\n",
              "4  HHUID00481496  55-70    0      0        0  ...    0      1      0      0      0\n",
              "\n",
              "[5 rows x 16 columns]"
            ]
          },
          "metadata": {
            "tags": []
          },
          "execution_count": 84
        }
      ]
    },
    {
      "cell_type": "markdown",
      "metadata": {
        "id": "YNLP4RMmotzT",
        "colab_type": "text"
      },
      "source": [
        "age is categorical or numerical?"
      ]
    },
    {
      "cell_type": "code",
      "metadata": {
        "id": "dCkM6K0Zow3N",
        "colab_type": "code",
        "outputId": "03c53a75-85e4-4fe9-e812-f2e87add9dc6",
        "colab": {
          "base_uri": "https://localhost:8080/",
          "height": 118
        }
      },
      "source": [
        "cvd.age.value_counts()"
      ],
      "execution_count": 0,
      "outputs": [
        {
          "output_type": "execute_result",
          "data": {
            "text/plain": [
              "20-40    142397\n",
              "40-55    117790\n",
              "55-70     98978\n",
              "70-90     45461\n",
              "0-20      41577\n",
              "Name: age, dtype: int64"
            ]
          },
          "metadata": {
            "tags": []
          },
          "execution_count": 85
        }
      ]
    },
    {
      "cell_type": "markdown",
      "metadata": {
        "id": "DomoRnXMUP3v",
        "colab_type": "text"
      },
      "source": [
        "### Prepare Train Data"
      ]
    },
    {
      "cell_type": "code",
      "metadata": {
        "id": "0j0Ozdm2fF7G",
        "colab_type": "code",
        "outputId": "0ce6e7e4-9864-4d09-973f-e0d89ca573e0",
        "colab": {
          "base_uri": "https://localhost:8080/",
          "height": 204
        }
      },
      "source": [
        "cvd.head()"
      ],
      "execution_count": 0,
      "outputs": [
        {
          "output_type": "execute_result",
          "data": {
            "text/html": [
              "<div>\n",
              "<style scoped>\n",
              "    .dataframe tbody tr th:only-of-type {\n",
              "        vertical-align: middle;\n",
              "    }\n",
              "\n",
              "    .dataframe tbody tr th {\n",
              "        vertical-align: top;\n",
              "    }\n",
              "\n",
              "    .dataframe thead th {\n",
              "        text-align: right;\n",
              "    }\n",
              "</style>\n",
              "<table border=\"1\" class=\"dataframe\">\n",
              "  <thead>\n",
              "    <tr style=\"text-align: right;\">\n",
              "      <th></th>\n",
              "      <th>patientID</th>\n",
              "      <th>age</th>\n",
              "      <th>htn</th>\n",
              "      <th>treat</th>\n",
              "      <th>smoking</th>\n",
              "      <th>race</th>\n",
              "      <th>t2d</th>\n",
              "      <th>gender</th>\n",
              "      <th>numAge</th>\n",
              "      <th>bmi</th>\n",
              "      <th>tchol</th>\n",
              "      <th>sbp</th>\n",
              "      <th>cvd</th>\n",
              "    </tr>\n",
              "  </thead>\n",
              "  <tbody>\n",
              "    <tr>\n",
              "      <th>357685</th>\n",
              "      <td>HHUID00563164</td>\n",
              "      <td>40-55</td>\n",
              "      <td>N</td>\n",
              "      <td>N</td>\n",
              "      <td>N</td>\n",
              "      <td>Asian/PI</td>\n",
              "      <td>N</td>\n",
              "      <td>F</td>\n",
              "      <td>45</td>\n",
              "      <td>21</td>\n",
              "      <td>227</td>\n",
              "      <td>115</td>\n",
              "      <td>N</td>\n",
              "    </tr>\n",
              "    <tr>\n",
              "      <th>331129</th>\n",
              "      <td>HHUID00274908</td>\n",
              "      <td>20-40</td>\n",
              "      <td>N</td>\n",
              "      <td>N</td>\n",
              "      <td>N</td>\n",
              "      <td>White</td>\n",
              "      <td>N</td>\n",
              "      <td>F</td>\n",
              "      <td>36</td>\n",
              "      <td>19</td>\n",
              "      <td>193</td>\n",
              "      <td>108</td>\n",
              "      <td>N</td>\n",
              "    </tr>\n",
              "    <tr>\n",
              "      <th>89436</th>\n",
              "      <td>HHUID00039383</td>\n",
              "      <td>20-40</td>\n",
              "      <td>N</td>\n",
              "      <td>N</td>\n",
              "      <td>N</td>\n",
              "      <td>White</td>\n",
              "      <td>N</td>\n",
              "      <td>M</td>\n",
              "      <td>24</td>\n",
              "      <td>16</td>\n",
              "      <td>193</td>\n",
              "      <td>110</td>\n",
              "      <td>N</td>\n",
              "    </tr>\n",
              "    <tr>\n",
              "      <th>132346</th>\n",
              "      <td>HHUID00597428</td>\n",
              "      <td>70-90</td>\n",
              "      <td>N</td>\n",
              "      <td>N</td>\n",
              "      <td>Y</td>\n",
              "      <td>White</td>\n",
              "      <td>N</td>\n",
              "      <td>M</td>\n",
              "      <td>70</td>\n",
              "      <td>15</td>\n",
              "      <td>156</td>\n",
              "      <td>124</td>\n",
              "      <td>N</td>\n",
              "    </tr>\n",
              "    <tr>\n",
              "      <th>102706</th>\n",
              "      <td>HHUID00426556</td>\n",
              "      <td>40-55</td>\n",
              "      <td>N</td>\n",
              "      <td>N</td>\n",
              "      <td>N</td>\n",
              "      <td>White</td>\n",
              "      <td>N</td>\n",
              "      <td>M</td>\n",
              "      <td>49</td>\n",
              "      <td>24</td>\n",
              "      <td>210</td>\n",
              "      <td>108</td>\n",
              "      <td>N</td>\n",
              "    </tr>\n",
              "  </tbody>\n",
              "</table>\n",
              "</div>"
            ],
            "text/plain": [
              "            patientID    age htn treat smoking  ... numAge bmi tchol  sbp  cvd\n",
              "357685  HHUID00563164  40-55   N     N       N  ...     45  21   227  115    N\n",
              "331129  HHUID00274908  20-40   N     N       N  ...     36  19   193  108    N\n",
              "89436   HHUID00039383  20-40   N     N       N  ...     24  16   193  110    N\n",
              "132346  HHUID00597428  70-90   N     N       Y  ...     70  15   156  124    N\n",
              "102706  HHUID00426556  40-55   N     N       N  ...     49  24   210  108    N\n",
              "\n",
              "[5 rows x 13 columns]"
            ]
          },
          "metadata": {
            "tags": []
          },
          "execution_count": 6
        }
      ]
    },
    {
      "cell_type": "markdown",
      "metadata": {
        "id": "25q2GSCUS6pn",
        "colab_type": "text"
      },
      "source": [
        "### Split Train Test"
      ]
    },
    {
      "cell_type": "code",
      "metadata": {
        "id": "i87I3V4MS56F",
        "colab_type": "code",
        "colab": {}
      },
      "source": [
        "from sklearn.model_selection import train_test_split \n",
        "X_train, X_prev, y_train, y_prev = train_test_split(X, y, test_size=0.33, random_state=seed) "
      ],
      "execution_count": 0,
      "outputs": []
    },
    {
      "cell_type": "code",
      "metadata": {
        "id": "Qahy7rZpmi_c",
        "colab_type": "code",
        "colab": {}
      },
      "source": [
        ""
      ],
      "execution_count": 0,
      "outputs": []
    },
    {
      "cell_type": "markdown",
      "metadata": {
        "id": "5lsi6-FelNWh",
        "colab_type": "text"
      },
      "source": [
        "### Prepare model"
      ]
    },
    {
      "cell_type": "code",
      "metadata": {
        "id": "HbTLgo5Io84b",
        "colab_type": "code",
        "colab": {}
      },
      "source": [
        "from sklearn.ensemble import RandomForestClassifier\n",
        "modelo = RandomForestClassifier(n_estimators=100, n_jobs=1, random_state=0)"
      ],
      "execution_count": 0,
      "outputs": []
    },
    {
      "cell_type": "markdown",
      "metadata": {
        "id": "qs8WEe1Lo9iK",
        "colab_type": "text"
      },
      "source": [
        "### Train Model"
      ]
    },
    {
      "cell_type": "code",
      "metadata": {
        "id": "WfTB_oxBhDdE",
        "colab_type": "code",
        "outputId": "67908bb3-c6a3-4650-fbb8-f95b51b8e898",
        "colab": {
          "base_uri": "https://localhost:8080/",
          "height": 136
        }
      },
      "source": [
        "modelo.fit(X,y)"
      ],
      "execution_count": 0,
      "outputs": [
        {
          "output_type": "execute_result",
          "data": {
            "text/plain": [
              "RandomForestClassifier(bootstrap=True, class_weight=None, criterion='gini',\n",
              "                       max_depth=None, max_features='auto', max_leaf_nodes=None,\n",
              "                       min_impurity_decrease=0.0, min_impurity_split=None,\n",
              "                       min_samples_leaf=1, min_samples_split=2,\n",
              "                       min_weight_fraction_leaf=0.0, n_estimators=100, n_jobs=1,\n",
              "                       oob_score=False, random_state=0, verbose=0,\n",
              "                       warm_start=False)"
            ]
          },
          "metadata": {
            "tags": []
          },
          "execution_count": 33
        }
      ]
    },
    {
      "cell_type": "markdown",
      "metadata": {
        "id": "Z8M1ImStlR7O",
        "colab_type": "text"
      },
      "source": [
        "### Predict"
      ]
    },
    {
      "cell_type": "code",
      "metadata": {
        "id": "1s7r8mdQjR76",
        "colab_type": "code",
        "colab": {}
      },
      "source": [
        "p = modelo.predict(X_prev) #ou X_test"
      ],
      "execution_count": 0,
      "outputs": []
    },
    {
      "cell_type": "code",
      "metadata": {
        "id": "na1P_d6LjbYc",
        "colab_type": "code",
        "outputId": "90fbeaf7-04f6-4f6f-ef28-ff9a2d8e4769",
        "colab": {
          "base_uri": "https://localhost:8080/",
          "height": 34
        }
      },
      "source": [
        "p"
      ],
      "execution_count": 0,
      "outputs": [
        {
          "output_type": "execute_result",
          "data": {
            "text/plain": [
              "array([0, 0, 0, ..., 0, 0, 0])"
            ]
          },
          "metadata": {
            "tags": []
          },
          "execution_count": 40
        }
      ]
    },
    {
      "cell_type": "code",
      "metadata": {
        "id": "jXwmf_vcjdNs",
        "colab_type": "code",
        "colab": {}
      },
      "source": [
        "sub = pd.Series(p, index=cvd_test['patientID'], name='cvd_bin')"
      ],
      "execution_count": 0,
      "outputs": []
    },
    {
      "cell_type": "code",
      "metadata": {
        "id": "4Gna-SnOjsUj",
        "colab_type": "code",
        "colab": {}
      },
      "source": [
        "sub.to_csv('primeiro.csv', header=True)"
      ],
      "execution_count": 0,
      "outputs": []
    },
    {
      "cell_type": "code",
      "metadata": {
        "id": "7tro4M41kB9u",
        "colab_type": "code",
        "outputId": "b208d056-de28-4760-a291-7ef244ad9adf",
        "colab": {
          "base_uri": "https://localhost:8080/",
          "height": 187
        }
      },
      "source": [
        "!head -n10 primeiro.csv"
      ],
      "execution_count": 0,
      "outputs": [
        {
          "output_type": "stream",
          "text": [
            "patientID,cvd_bin\n",
            "HHUID00209262,0\n",
            "HHUID00618715,0\n",
            "HHUID00077486,0\n",
            "HHUID00791386,0\n",
            "HHUID00468893,0\n",
            "HHUID00626459,0\n",
            "HHUID00514950,0\n",
            "HHUID00470212,0\n",
            "HHUID00753570,0\n"
          ],
          "name": "stdout"
        }
      ]
    },
    {
      "cell_type": "markdown",
      "metadata": {
        "id": "i_WkG0xQlVOs",
        "colab_type": "text"
      },
      "source": [
        "### Score"
      ]
    },
    {
      "cell_type": "code",
      "metadata": {
        "id": "e6P1WYyZkpYc",
        "colab_type": "code",
        "outputId": "8f1a1a4d-410c-4f4a-fa46-ad54c4fe41c7",
        "colab": {
          "base_uri": "https://localhost:8080/",
          "height": 34
        }
      },
      "source": [
        "modelo.score(X_prev, y_prev)"
      ],
      "execution_count": 0,
      "outputs": [
        {
          "output_type": "execute_result",
          "data": {
            "text/plain": [
              "0.91"
            ]
          },
          "metadata": {
            "tags": []
          },
          "execution_count": 54
        }
      ]
    },
    {
      "cell_type": "markdown",
      "metadata": {
        "id": "qC3NtJ0vbYVS",
        "colab_type": "text"
      },
      "source": [
        "### Evaluate"
      ]
    },
    {
      "cell_type": "code",
      "metadata": {
        "id": "VpAPOSR_ehNs",
        "colab_type": "code",
        "colab": {}
      },
      "source": [
        "# Avaliar o classificador com base no target teste\n",
        "from sklearn.metrics import classification_report\n",
        "print(classification_report(y_test, pred))"
      ],
      "execution_count": 0,
      "outputs": []
    },
    {
      "cell_type": "code",
      "metadata": {
        "id": "ozWIKaD4hbuN",
        "colab_type": "code",
        "colab": {}
      },
      "source": [
        "from sklearn.metrics import roc_auc_score\n",
        "print(roc_auc_score(y_true, proba))"
      ],
      "execution_count": 0,
      "outputs": []
    },
    {
      "cell_type": "code",
      "metadata": {
        "id": "Sz62g4XNsaW0",
        "colab_type": "code",
        "colab": {}
      },
      "source": [
        "# Ver a importancia de cada característica\n",
        "feature_importances\t=\tgrid_search.best_estimator_.feature_importances_ \n",
        "feature_importances "
      ],
      "execution_count": 0,
      "outputs": []
    },
    {
      "cell_type": "markdown",
      "metadata": {
        "id": "ifOo4aPK9N8X",
        "colab_type": "text"
      },
      "source": [
        ""
      ]
    },
    {
      "cell_type": "markdown",
      "metadata": {
        "id": "M5yk6cVSEfPL",
        "colab_type": "text"
      },
      "source": [
        "# Diabetes Machine Learning Classification Model\n",
        "With numerical variables\n",
        "and Cross Validation."
      ]
    },
    {
      "cell_type": "markdown",
      "metadata": {
        "id": "gMaWbgOfUeNo",
        "colab_type": "text"
      },
      "source": [
        "Cols: 'Pregnancies', 'Glucose', 'BloodPressure', 'SkinThickness', 'Insulin', 'BMI', 'DiabetesPedigreeFunction', 'Age', 'Outcome'"
      ]
    },
    {
      "cell_type": "code",
      "metadata": {
        "id": "SLCn6uE6BfP5",
        "colab_type": "code",
        "colab": {}
      },
      "source": [
        "import pandas as pd"
      ],
      "execution_count": 0,
      "outputs": []
    },
    {
      "cell_type": "code",
      "metadata": {
        "id": "qTK6jpjQH5aU",
        "colab_type": "code",
        "colab": {}
      },
      "source": [
        "names = ['preg', 'glic', 'pres', 'skin', 'ins', 'bmi', 'dpf', 'age', 'target']"
      ],
      "execution_count": 0,
      "outputs": []
    },
    {
      "cell_type": "code",
      "metadata": {
        "id": "esIojzQGH7Wl",
        "colab_type": "code",
        "outputId": "3e947f17-b069-45f3-c432-c56e1d6cf554",
        "colab": {
          "base_uri": "https://localhost:8080/",
          "height": 195
        }
      },
      "source": [
        "d = pd.read_csv('http://bit.ly/pimadiabetes', names=names)\n",
        "d.head()"
      ],
      "execution_count": 0,
      "outputs": [
        {
          "output_type": "execute_result",
          "data": {
            "text/html": [
              "<div>\n",
              "<style scoped>\n",
              "    .dataframe tbody tr th:only-of-type {\n",
              "        vertical-align: middle;\n",
              "    }\n",
              "\n",
              "    .dataframe tbody tr th {\n",
              "        vertical-align: top;\n",
              "    }\n",
              "\n",
              "    .dataframe thead th {\n",
              "        text-align: right;\n",
              "    }\n",
              "</style>\n",
              "<table border=\"1\" class=\"dataframe\">\n",
              "  <thead>\n",
              "    <tr style=\"text-align: right;\">\n",
              "      <th></th>\n",
              "      <th>preg</th>\n",
              "      <th>glic</th>\n",
              "      <th>pres</th>\n",
              "      <th>skin</th>\n",
              "      <th>ins</th>\n",
              "      <th>bmi</th>\n",
              "      <th>dpf</th>\n",
              "      <th>age</th>\n",
              "      <th>target</th>\n",
              "    </tr>\n",
              "  </thead>\n",
              "  <tbody>\n",
              "    <tr>\n",
              "      <th>0</th>\n",
              "      <td>6</td>\n",
              "      <td>148</td>\n",
              "      <td>72</td>\n",
              "      <td>35</td>\n",
              "      <td>0</td>\n",
              "      <td>33.6</td>\n",
              "      <td>627.0</td>\n",
              "      <td>50</td>\n",
              "      <td>1</td>\n",
              "    </tr>\n",
              "    <tr>\n",
              "      <th>1</th>\n",
              "      <td>1</td>\n",
              "      <td>85</td>\n",
              "      <td>66</td>\n",
              "      <td>29</td>\n",
              "      <td>0</td>\n",
              "      <td>26.6</td>\n",
              "      <td>351.0</td>\n",
              "      <td>31</td>\n",
              "      <td>0</td>\n",
              "    </tr>\n",
              "    <tr>\n",
              "      <th>2</th>\n",
              "      <td>8</td>\n",
              "      <td>183</td>\n",
              "      <td>64</td>\n",
              "      <td>0</td>\n",
              "      <td>0</td>\n",
              "      <td>23.3</td>\n",
              "      <td>672.0</td>\n",
              "      <td>32</td>\n",
              "      <td>1</td>\n",
              "    </tr>\n",
              "    <tr>\n",
              "      <th>3</th>\n",
              "      <td>1</td>\n",
              "      <td>89</td>\n",
              "      <td>66</td>\n",
              "      <td>23</td>\n",
              "      <td>94</td>\n",
              "      <td>28.1</td>\n",
              "      <td>167.0</td>\n",
              "      <td>21</td>\n",
              "      <td>0</td>\n",
              "    </tr>\n",
              "    <tr>\n",
              "      <th>4</th>\n",
              "      <td>0</td>\n",
              "      <td>137</td>\n",
              "      <td>40</td>\n",
              "      <td>35</td>\n",
              "      <td>168</td>\n",
              "      <td>43.1</td>\n",
              "      <td>2288.0</td>\n",
              "      <td>33</td>\n",
              "      <td>1</td>\n",
              "    </tr>\n",
              "  </tbody>\n",
              "</table>\n",
              "</div>"
            ],
            "text/plain": [
              "   preg  glic  pres  skin  ins   bmi     dpf  age  target\n",
              "0     6   148    72    35    0  33.6   627.0   50       1\n",
              "1     1    85    66    29    0  26.6   351.0   31       0\n",
              "2     8   183    64     0    0  23.3   672.0   32       1\n",
              "3     1    89    66    23   94  28.1   167.0   21       0\n",
              "4     0   137    40    35  168  43.1  2288.0   33       1"
            ]
          },
          "metadata": {
            "tags": []
          },
          "execution_count": 11
        }
      ]
    },
    {
      "cell_type": "code",
      "metadata": {
        "id": "WhWYwHO6UryD",
        "colab_type": "code",
        "outputId": "89a5164d-cdd4-47af-b67b-b4258d086382",
        "colab": {
          "base_uri": "https://localhost:8080/",
          "height": 106
        }
      },
      "source": [
        "d.head(2)"
      ],
      "execution_count": 0,
      "outputs": [
        {
          "output_type": "execute_result",
          "data": {
            "text/html": [
              "<div>\n",
              "<style scoped>\n",
              "    .dataframe tbody tr th:only-of-type {\n",
              "        vertical-align: middle;\n",
              "    }\n",
              "\n",
              "    .dataframe tbody tr th {\n",
              "        vertical-align: top;\n",
              "    }\n",
              "\n",
              "    .dataframe thead th {\n",
              "        text-align: right;\n",
              "    }\n",
              "</style>\n",
              "<table border=\"1\" class=\"dataframe\">\n",
              "  <thead>\n",
              "    <tr style=\"text-align: right;\">\n",
              "      <th></th>\n",
              "      <th>preg</th>\n",
              "      <th>glic</th>\n",
              "      <th>pres</th>\n",
              "      <th>skin</th>\n",
              "      <th>ins</th>\n",
              "      <th>bmi</th>\n",
              "      <th>dpf</th>\n",
              "      <th>age</th>\n",
              "      <th>target</th>\n",
              "    </tr>\n",
              "  </thead>\n",
              "  <tbody>\n",
              "    <tr>\n",
              "      <th>0</th>\n",
              "      <td>6</td>\n",
              "      <td>148</td>\n",
              "      <td>72</td>\n",
              "      <td>35</td>\n",
              "      <td>0</td>\n",
              "      <td>33.6</td>\n",
              "      <td>627.0</td>\n",
              "      <td>50</td>\n",
              "      <td>1</td>\n",
              "    </tr>\n",
              "    <tr>\n",
              "      <th>1</th>\n",
              "      <td>1</td>\n",
              "      <td>85</td>\n",
              "      <td>66</td>\n",
              "      <td>29</td>\n",
              "      <td>0</td>\n",
              "      <td>26.6</td>\n",
              "      <td>351.0</td>\n",
              "      <td>31</td>\n",
              "      <td>0</td>\n",
              "    </tr>\n",
              "  </tbody>\n",
              "</table>\n",
              "</div>"
            ],
            "text/plain": [
              "   preg  glic  pres  skin  ins   bmi    dpf  age  target\n",
              "0     6   148    72    35    0  33.6  627.0   50       1\n",
              "1     1    85    66    29    0  26.6  351.0   31       0"
            ]
          },
          "metadata": {
            "tags": []
          },
          "execution_count": 12
        }
      ]
    },
    {
      "cell_type": "code",
      "metadata": {
        "id": "OqZt6jDrI8wZ",
        "colab_type": "code",
        "colab": {}
      },
      "source": [
        "X = d.drop('target', axis=1)\n",
        "y = d['target']"
      ],
      "execution_count": 0,
      "outputs": []
    },
    {
      "cell_type": "code",
      "metadata": {
        "id": "WttxvTvFUboX",
        "colab_type": "code",
        "colab": {}
      },
      "source": [
        "from sklearn.model_selection import train_test_split\n",
        "# implementing train-test-split\n",
        "X_train, X_test, y_train, y_test = train_test_split(X, y, test_size=0.30, random_state=42)"
      ],
      "execution_count": 0,
      "outputs": []
    },
    {
      "cell_type": "code",
      "metadata": {
        "id": "yGDSpaUCUy6V",
        "colab_type": "code",
        "outputId": "da6e6ba3-76f5-4eb7-dee2-94675b22a292",
        "colab": {
          "base_uri": "https://localhost:8080/",
          "height": 134
        }
      },
      "source": [
        "from sklearn import model_selection\n",
        "from sklearn.ensemble import RandomForestClassifier\n",
        "\n",
        "# random forest model creation\n",
        "model = RandomForestClassifier(n_estimators=100, max_depth=2, random_state=42)\n",
        "model.fit(X_train,y_train)"
      ],
      "execution_count": 0,
      "outputs": [
        {
          "output_type": "execute_result",
          "data": {
            "text/plain": [
              "RandomForestClassifier(bootstrap=True, class_weight=None, criterion='gini',\n",
              "                       max_depth=2, max_features='auto', max_leaf_nodes=None,\n",
              "                       min_impurity_decrease=0.0, min_impurity_split=None,\n",
              "                       min_samples_leaf=1, min_samples_split=2,\n",
              "                       min_weight_fraction_leaf=0.0, n_estimators=100,\n",
              "                       n_jobs=None, oob_score=False, random_state=42, verbose=0,\n",
              "                       warm_start=False)"
            ]
          },
          "metadata": {
            "tags": []
          },
          "execution_count": 23
        }
      ]
    },
    {
      "cell_type": "code",
      "metadata": {
        "id": "iyJWLKNiU4CX",
        "colab_type": "code",
        "colab": {}
      },
      "source": [
        "# predictions\n",
        "rfc_predict = model.predict(X_test)"
      ],
      "execution_count": 0,
      "outputs": []
    },
    {
      "cell_type": "code",
      "metadata": {
        "id": "r08sQ1puU8mb",
        "colab_type": "code",
        "colab": {}
      },
      "source": [
        "# evaluate performance\n",
        "from sklearn.model_selection import cross_val_score\n",
        "from sklearn.metrics import classification_report, confusion_matrix"
      ],
      "execution_count": 0,
      "outputs": []
    },
    {
      "cell_type": "code",
      "metadata": {
        "id": "tjHo-to_VO3j",
        "colab_type": "code",
        "colab": {}
      },
      "source": [
        "rfc_cv_score = cross_val_score(model, X, y, cv=10, scoring='roc_auc')"
      ],
      "execution_count": 0,
      "outputs": []
    },
    {
      "cell_type": "code",
      "metadata": {
        "id": "3rvfPzU-VRKU",
        "colab_type": "code",
        "outputId": "390ace7c-2488-429a-af1a-d2df1d1814d3",
        "colab": {
          "base_uri": "https://localhost:8080/",
          "height": 420
        }
      },
      "source": [
        "print(\"=== Confusion Matrix ===\")\n",
        "print(confusion_matrix(y_test, rfc_predict))\n",
        "print('\\n')\n",
        "print(\"=== Classification Report ===\")\n",
        "print(classification_report(y_test, rfc_predict))\n",
        "print('\\n')\n",
        "print(\"=== All AUC Scores ===\")\n",
        "print(rfc_cv_score)\n",
        "print('\\n')\n",
        "print(\"=== Mean AUC Score ===\")\n",
        "print(\"Mean AUC Score - Random Forest: \", rfc_cv_score.mean())"
      ],
      "execution_count": 0,
      "outputs": [
        {
          "output_type": "stream",
          "text": [
            "=== Confusion Matrix ===\n",
            "[[135  16]\n",
            " [ 44  36]]\n",
            "\n",
            "\n",
            "=== Classification Report ===\n",
            "              precision    recall  f1-score   support\n",
            "\n",
            "           0       0.75      0.89      0.82       151\n",
            "           1       0.69      0.45      0.55        80\n",
            "\n",
            "    accuracy                           0.74       231\n",
            "   macro avg       0.72      0.67      0.68       231\n",
            "weighted avg       0.73      0.74      0.72       231\n",
            "\n",
            "\n",
            "\n",
            "=== All AUC Scores ===\n",
            "[0.80222222 0.80296296 0.84888889 0.7037037  0.79555556 0.87555556\n",
            " 0.86       0.90222222 0.83307692 0.85153846]\n",
            "\n",
            "\n",
            "=== Mean AUC Score ===\n",
            "Mean AUC Score - Random Forest:  0.8275726495726496\n"
          ],
          "name": "stdout"
        }
      ]
    },
    {
      "cell_type": "code",
      "metadata": {
        "id": "4r-lGiuVVfEi",
        "colab_type": "code",
        "colab": {}
      },
      "source": [
        "# Tunning hyper parameters\n",
        "from sklearn.model_selection import RandomizedSearchCV\n",
        "\n",
        "# number of trees in random forest\n",
        "n_estimators = [int(x) for x in np.linspace(start = 200, stop = 2000, num = 10)]\n",
        "\n",
        "# number of features at every split\n",
        "max_features = ['auto', 'sqrt']\n",
        "\n",
        "# max depth\n",
        "max_depth = [int(x) for x in np.linspace(100, 500, num = 11)]\n",
        "max_depth.append(None)\n",
        "\n",
        "# create random grid\n",
        "random_grid = {\n",
        " 'n_estimators': n_estimators,\n",
        " 'max_features': max_features,\n",
        " 'max_depth': max_depth\n",
        " }"
      ],
      "execution_count": 0,
      "outputs": []
    },
    {
      "cell_type": "code",
      "metadata": {
        "id": "zyohtEihVlPc",
        "colab_type": "code",
        "outputId": "b166197f-563b-499d-c45d-48ca3ca5ff88",
        "colab": {
          "base_uri": "https://localhost:8080/",
          "height": 118
        }
      },
      "source": [
        "# Random search of parameters\n",
        "rfc_random = RandomizedSearchCV(estimator = rfc, param_distributions = random_grid, n_iter = 100, cv = 3, verbose=2, random_state=42, n_jobs = -1)\n",
        "\n",
        "# Fit the model\n",
        "rfc_random.fit(X_train, y_train)\n",
        "# print results\n",
        "print(rfc_random.best_params_)"
      ],
      "execution_count": 0,
      "outputs": [
        {
          "output_type": "stream",
          "text": [
            "Fitting 3 folds for each of 100 candidates, totalling 300 fits\n"
          ],
          "name": "stdout"
        },
        {
          "output_type": "stream",
          "text": [
            "[Parallel(n_jobs=-1)]: Using backend LokyBackend with 4 concurrent workers.\n",
            "[Parallel(n_jobs=-1)]: Done  33 tasks      | elapsed:   19.5s\n",
            "[Parallel(n_jobs=-1)]: Done 154 tasks      | elapsed:  1.3min\n",
            "[Parallel(n_jobs=-1)]: Done 300 out of 300 | elapsed:  2.6min finished\n"
          ],
          "name": "stderr"
        },
        {
          "output_type": "stream",
          "text": [
            "{'n_estimators': 200, 'max_features': 'sqrt', 'max_depth': 100}\n"
          ],
          "name": "stdout"
        }
      ]
    },
    {
      "cell_type": "code",
      "metadata": {
        "id": "dyEPPVH8V8s3",
        "colab_type": "code",
        "colab": {}
      },
      "source": [
        "# After tunning\n",
        "rfc = RandomForestClassifier(n_estimators=600, max_depth=300, max_features='sqrt')\n",
        "\n",
        "# Train model with hypterparameters\n",
        "rfc.fit(X_train,y_train)\n",
        "rfc_predict = rfc.predict(X_test)\n",
        "rfc_cv_score = cross_val_score(rfc, X, y, cv=10, scoring='roc_auc')\n",
        "print(\"=== Confusion Matrix ===\")\n",
        "print(confusion_matrix(y_test, rfc_predict))\n",
        "print('\\n')\n",
        "print(\"=== Classification Report ===\")\n",
        "print(classification_report(y_test, rfc_predict))\n",
        "print('\\n')\n",
        "print(\"=== All AUC Scores ===\")\n",
        "print(rfc_cv_score)\n",
        "print('\\n')\n",
        "print(\"=== Mean AUC Score ===\")\n",
        "print(\"Mean AUC Score - Random Forest: \", rfc_cv_score.mean())"
      ],
      "execution_count": 0,
      "outputs": []
    }
  ]
}